{
  "cells": [
    {
      "cell_type": "code",
      "execution_count": null,
      "metadata": {
        "id": "yYYZ7Qorysfr"
      },
      "outputs": [],
      "source": [
        "!pip install streamlit pyngrok"
      ]
    },
    {
      "cell_type": "code",
      "execution_count": null,
      "metadata": {
        "id": "g_L8lxGwy2Fj"
      },
      "outputs": [],
      "source": [
        "!ngrok config add-authtoken 2qRMy8d5hpeItHPYABmVLnMXJLD_8w4i6xT31sJ1vKzdrSAD"
      ]
    },
    {
      "cell_type": "code",
      "execution_count": null,
      "metadata": {
        "colab": {
          "base_uri": "https://localhost:8080/"
        },
        "id": "qpKIDj2C1SZ7",
        "outputId": "55dfb708-e2eb-401d-86bb-3bd877ae104c"
      },
      "outputs": [
        {
          "output_type": "stream",
          "name": "stdout",
          "text": [
            "Writing 1_Handwriting_Prediction.py\n"
          ]
        }
      ],
      "source": [
        "%%writefile 1_Handwriting_Prediction.py\n",
        "import streamlit as st\n",
        "import tensorflow as tf\n",
        "from tensorflow import keras\n",
        "from PIL import Image\n",
        "import numpy as np\n",
        "\n",
        "model = keras.models.load_model(\"/content/Dyslexia_classifier.h5\")\n",
        "\n",
        "st.title(\"Dyslexia Classifier\")\n",
        "st.subheader(\"Upload a clear picture of the handwriting to detect signs of Dyslexia\")\n",
        "uploaded_pic = st.file_uploader(\"supported file types : jpg, jpeg, png\",type = [\"jpg\",\"jpeg\",\"png\"])\n",
        "if uploaded_pic:\n",
        "    img = Image.open(uploaded_pic).convert(\"RGB\")\n",
        "    st.image(img,caption = \"Your uploaded pic\",use_container_width=True)\n",
        "do_predict = st.button(\"Predict\")\n",
        "if do_predict:\n",
        "    if uploaded_pic is None:\n",
        "        st.write(\"Please upload a picture to make prediction\")\n",
        "    else:\n",
        "        img_resized = tf.image.resize(np.array(img),(224,224))\n",
        "        img_array = np.expand_dims(img_resized,axis = 0)\n",
        "        img_array = img_array / 255.0\n",
        "\n",
        "        prob = model.predict(img_array,verbose = 0)[0][0]\n",
        "\n",
        "        if prob > 0.2:\n",
        "            st.success(\"### Normal\")\n",
        "        else:\n",
        "            st.error(\"### Dyslexia\")"
      ]
    },
    {
      "cell_type": "code",
      "source": [
        "import os\n",
        "from google.colab import userdata\n",
        "os.environ[\"GOOGLE_API_KEY\"] = userdata.get('GOOGLE_API_KEY')"
      ],
      "metadata": {
        "id": "Bxme5SzHo5Ag"
      },
      "execution_count": null,
      "outputs": []
    },
    {
      "cell_type": "code",
      "source": [
        "%%writefile /content/pages/2_Chat_about_dyslexia.py\n",
        "import streamlit as st\n",
        "from google import genai\n",
        "from google.genai import types\n",
        "import os\n",
        "\n",
        "client = genai.Client(api_key = os.environ.get('GOOGLE_API_KEY'))\n",
        "\n",
        "def get_reply(prmpt):\n",
        "    system_prompt = \"\"\"\n",
        "    You are an educational assistant focused ONLY on dyslexia.\n",
        "    - Answer user queries about dyslexia, its symptoms, detections, coping strategies, learning aids, etc.\n",
        "    - If the question is unrelated to dyslexia, politely refuse and remind the user that you only handle dyslexia related queries\n",
        "    \"\"\"\n",
        "    response = client.models.generate_content(\n",
        "        model = \"gemini-2.5-flash\",\n",
        "        config = types.GenerateContentConfig(\n",
        "            system_instruction = system_prompt,\n",
        "            thinking_config=types.ThinkingConfig(thinking_budget=512)\n",
        "        ),\n",
        "        contents = prmpt\n",
        "    )\n",
        "    return response.text\n",
        "\n",
        "st.title(\"Chat\")\n",
        "st.write('Chat about anything related to dyslexia with our chatbot')\n",
        "\n",
        "if \"messages\" not in st.session_state:\n",
        "    st.session_state.messages = []\n",
        "\n",
        "for message in st.session_state.messages:\n",
        "    with st.chat_message(message[\"role\"]):\n",
        "        st.markdown(message[\"content\"])\n",
        "\n",
        "if prompt := st.chat_input(\"Ask anything about dyslexia\"):\n",
        "    with st.chat_message(\"user\"):\n",
        "        st.markdown(prompt)\n",
        "\n",
        "    with st.spinner(\"thinking\", show_time=True):\n",
        "        bot_reply = get_reply(prompt)\n",
        "    with st.chat_message(\"assistant\"):\n",
        "        st.markdown(bot_reply)\n",
        "\n",
        "    st.session_state.messages.append({\"role\": \"user\", \"content\": prompt})\n",
        "    st.session_state.messages.append({\"role\": \"assistant\", \"content\": bot_reply})"
      ],
      "metadata": {
        "colab": {
          "base_uri": "https://localhost:8080/"
        },
        "id": "22A01XjpYQcG",
        "outputId": "c13ecfaa-ec69-4200-a6e2-30ff17c646fe"
      },
      "execution_count": null,
      "outputs": [
        {
          "output_type": "stream",
          "name": "stdout",
          "text": [
            "Writing /content/pages/2_Chat_about_dyslexia.py\n"
          ]
        }
      ]
    },
    {
      "cell_type": "code",
      "source": [
        "%%writefile /content/pages/3_Know_more_about_Dyslexia.py\n",
        "import streamlit as st\n",
        "text = \"\"\"\n",
        "# Understanding Dyslexia\n",
        "\n",
        "## Introduction\n",
        "\n",
        "Dyslexia is a common learning difference that primarily affects the ability to read, spell, and process written language. It is not related to intelligence or vision problems. Instead, it results from differences in the way the brain processes information. Dyslexia is lifelong, but with the right support, individuals can succeed academically, professionally, and personally.\n",
        "\n",
        "---\n",
        "\n",
        "## Key Characteristics\n",
        "\n",
        "* **Reading difficulties**: Slow, effortful reading, frequent errors, or difficulty recognizing words.\n",
        "* **Spelling challenges**: Unpredictable or inconsistent spelling patterns.\n",
        "* **Writing issues**: Difficulty organizing thoughts in writing, poor grammar, or unusual handwriting.\n",
        "* **Language processing**: Trouble with phonological awareness (linking sounds to letters) and rapid word retrieval.\n",
        "* **Other areas**: May include challenges with sequencing, organization, or memory, but strengths in problem-solving, creativity, and verbal reasoning.\n",
        "\n",
        "---\n",
        "\n",
        "## Causes and Risk Factors\n",
        "\n",
        "* **Neurological basis**: Differences in brain structure and function, especially in regions linked to reading and language.\n",
        "* **Genetics**: Dyslexia often runs in families, suggesting a hereditary component.\n",
        "* **Environmental factors**: Early exposure to language, quality of education, and support can influence the severity of symptoms.\n",
        "\n",
        "---\n",
        "\n",
        "## Signs and Symptoms\n",
        "\n",
        "### In Children\n",
        "\n",
        "* Delayed speech development\n",
        "* Difficulty learning the alphabet or rhyming words\n",
        "* Struggles with reading fluency compared to peers\n",
        "* Avoidance of reading or writing tasks\n",
        "\n",
        "### In Adolescents and Adults\n",
        "\n",
        "* Persistent spelling and reading difficulties\n",
        "* Slow reading pace\n",
        "* Trouble summarizing written texts\n",
        "* Difficulty learning new languages\n",
        "* Lower self-confidence in academic or professional settings\n",
        "\n",
        "---\n",
        "\n",
        "## Diagnosis\n",
        "\n",
        "Dyslexia is typically diagnosed through comprehensive assessments that evaluate:\n",
        "\n",
        "* Reading and writing skills\n",
        "* Phonological processing abilities\n",
        "* Memory and attention\n",
        "* Family and educational history\n",
        "\n",
        "Specialists such as educational psychologists or speech-language pathologists usually conduct these evaluations.\n",
        "\n",
        "---\n",
        "\n",
        "## Management and Support Strategies\n",
        "\n",
        "While dyslexia cannot be “cured,” effective support can significantly reduce its impact.\n",
        "\n",
        "* **Educational interventions**: Structured, multisensory reading programs (e.g., Orton-Gillingham approach).\n",
        "* **Classroom accommodations**: Extra time for exams, audiobooks, text-to-speech tools, or alternative formats for assignments.\n",
        "* **Technology aids**: Spell-checkers, speech recognition software, and reading applications.\n",
        "* **Skill development**: Targeted phonics instruction, comprehension strategies, and writing support.\n",
        "* **Emotional support**: Encouragement, counseling, and building self-confidence to counteract frustration.\n",
        "\n",
        "---\n",
        "\n",
        "## Strengths Associated with Dyslexia\n",
        "\n",
        "Many individuals with dyslexia display exceptional skills in:\n",
        "\n",
        "* Creative problem-solving\n",
        "* Storytelling and verbal communication\n",
        "* Visual-spatial reasoning\n",
        "* Innovation and out-of-the-box thinking\n",
        "\n",
        "---\n",
        "\n",
        "## Myths and Misconceptions\n",
        "\n",
        "* **Myth:** Dyslexia is a vision problem.\n",
        "  **Fact:** Dyslexia is related to brain-based language processing differences.\n",
        "\n",
        "* **Myth:** People with dyslexia cannot succeed academically.\n",
        "  **Fact:** With proper support, many excel in academics and careers.\n",
        "\n",
        "* **Myth:** Dyslexia is rare.\n",
        "  **Fact:** Dyslexia is one of the most common learning differences, affecting up to 10% of the population.\n",
        "\n",
        "---\n",
        "\n",
        "## Resources for Further Reading\n",
        "\n",
        "* [International Dyslexia Association](https://dyslexiaida.org)\n",
        "* [British Dyslexia Association](https://www.bdadyslexia.org.uk)\n",
        "* [Understood.org](https://www.understood.org)\n",
        "\n",
        "---\n",
        "\n",
        "## Conclusion\n",
        "\n",
        "Dyslexia is a lifelong learning difference that presents unique challenges, especially in reading and writing. However, with awareness, early intervention, and supportive strategies, individuals with dyslexia can thrive. Recognizing both the challenges and strengths associated with dyslexia helps build a more inclusive and empowering environment for all.\n",
        "\"\"\"\n",
        "st.markdown(text)"
      ],
      "metadata": {
        "colab": {
          "base_uri": "https://localhost:8080/"
        },
        "id": "EyNFmntlNbdD",
        "outputId": "371cb4da-dd8a-4145-eb71-6035d566923a"
      },
      "execution_count": null,
      "outputs": [
        {
          "output_type": "stream",
          "name": "stdout",
          "text": [
            "Writing /content/pages/3_Know_more_about_Dyslexia.py\n"
          ]
        }
      ]
    },
    {
      "cell_type": "code",
      "execution_count": 11,
      "metadata": {
        "id": "p22pSmGf2mFj"
      },
      "outputs": [],
      "source": [
        "process.kill()\n",
        "ngrok.kill()"
      ]
    },
    {
      "cell_type": "code",
      "execution_count": 12,
      "metadata": {
        "colab": {
          "base_uri": "https://localhost:8080/"
        },
        "id": "GPIUXp5z1c_e",
        "outputId": "4c5aa63f-deac-464a-ac7a-f933413523e3"
      },
      "outputs": [
        {
          "output_type": "stream",
          "name": "stdout",
          "text": [
            "NgrokTunnel: \"https://826d0d3e122c.ngrok-free.app\" -> \"http://localhost:8501\"\n"
          ]
        }
      ],
      "source": [
        "from pyngrok import ngrok\n",
        "import subprocess\n",
        "\n",
        "ngrok.kill()\n",
        "public_url = ngrok.connect(8501)\n",
        "print(public_url)\n",
        "\n",
        "process = subprocess.Popen([\"streamlit\",\"run\",\"1_Handwriting_Prediction.py\"])"
      ]
    },
    {
      "cell_type": "code",
      "source": [],
      "metadata": {
        "id": "9dz5w1m3Gdci"
      },
      "execution_count": 9,
      "outputs": []
    }
  ],
  "metadata": {
    "colab": {
      "provenance": [],
      "authorship_tag": "ABX9TyPuQeK0PEnMOIpIDagHg4iK"
    },
    "kernelspec": {
      "display_name": "Python 3",
      "name": "python3"
    },
    "language_info": {
      "name": "python"
    }
  },
  "nbformat": 4,
  "nbformat_minor": 0
}