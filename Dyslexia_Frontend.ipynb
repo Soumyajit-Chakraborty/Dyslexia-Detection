{
  "nbformat": 4,
  "nbformat_minor": 0,
  "metadata": {
    "colab": {
      "provenance": [],
      "authorship_tag": "ABX9TyMtw5GeqK3NpPWf2vv8zBYo",
      "include_colab_link": true
    },
    "kernelspec": {
      "name": "python3",
      "display_name": "Python 3"
    },
    "language_info": {
      "name": "python"
    }
  },
  "cells": [
    {
      "cell_type": "markdown",
      "metadata": {
        "id": "view-in-github",
        "colab_type": "text"
      },
      "source": [
        "<a href=\"https://colab.research.google.com/github/Soumyajit-Chakraborty/Dyslexia-Detection/blob/main/Dyslexia_Frontend.ipynb\" target=\"_parent\"><img src=\"https://colab.research.google.com/assets/colab-badge.svg\" alt=\"Open In Colab\"/></a>"
      ]
    },
    {
      "cell_type": "code",
      "execution_count": null,
      "metadata": {
        "id": "yYYZ7Qorysfr"
      },
      "outputs": [],
      "source": [
        "!pip install streamlit pyngrok"
      ]
    },
    {
      "cell_type": "code",
      "source": [
        "!ngrok config add-authtoken 2qRMy8d5hpeItHPYABmVLnMXJLD_8w4i6xT31sJ1vKzdrSAD"
      ],
      "metadata": {
        "colab": {
          "base_uri": "https://localhost:8080/"
        },
        "id": "g_L8lxGwy2Fj",
        "outputId": "1232246e-7e4d-4da6-b77f-49f9148e3c4d"
      },
      "execution_count": null,
      "outputs": [
        {
          "output_type": "stream",
          "name": "stdout",
          "text": [
            "Authtoken saved to configuration file: /root/.config/ngrok/ngrok.yml\n"
          ]
        }
      ]
    },
    {
      "cell_type": "code",
      "source": [
        "%%writefile app.py\n",
        "import streamlit as st\n",
        "import tensorflow as tf\n",
        "from tensorflow import keras\n",
        "from PIL import Image\n",
        "import numpy as np\n",
        "\n",
        "model = keras.models.load_model(\"/content/Dyslexia_classifier.h5\")\n",
        "\n",
        "st.title(\"Dyslexia Classifier\")\n",
        "st.subheader(\"Upload a clear picture of the handwriting to detect signs of Dyslexia\")\n",
        "uploaded_pic = st.file_uploader(\"supported file types : jpg, jpeg, png\",type = [\"jpg\",\"jpeg\",\"png\"])\n",
        "if uploaded_pic:\n",
        "    img = Image.open(uploaded_pic).convert(\"RGB\")\n",
        "    st.image(img,caption = \"Your uploaded pic\",use_container_width=True)\n",
        "do_predict = st.button(\"Predict\")\n",
        "if do_predict:\n",
        "    if uploaded_pic is None:\n",
        "        st.write(\"Please upload a picture to make prediction\")\n",
        "    else:\n",
        "        img_resized = tf.image.resize(np.array(img),(224,224))\n",
        "        img_array = np.expand_dims(img_resized,axis = 0)\n",
        "        img_array = img_array / 255.0\n",
        "\n",
        "        prob = model.predict(img_array,verbose = 0)[0][0]\n",
        "\n",
        "        if prob > 0.2:\n",
        "            st.success(\"### Normal\")\n",
        "        else:\n",
        "            st.error(\"### Dyslexia\")"
      ],
      "metadata": {
        "colab": {
          "base_uri": "https://localhost:8080/"
        },
        "id": "qpKIDj2C1SZ7",
        "outputId": "3b9e2c22-8b02-4f0f-e246-e1318820feaf"
      },
      "execution_count": null,
      "outputs": [
        {
          "output_type": "stream",
          "name": "stdout",
          "text": [
            "Writing app.py\n"
          ]
        }
      ]
    },
    {
      "cell_type": "code",
      "source": [
        "process.kill()\n",
        "ngrok.kill()"
      ],
      "metadata": {
        "id": "p22pSmGf2mFj"
      },
      "execution_count": null,
      "outputs": []
    },
    {
      "cell_type": "code",
      "source": [
        "from pyngrok import ngrok\n",
        "import subprocess\n",
        "\n",
        "ngrok.kill()\n",
        "public_url = ngrok.connect(8501)\n",
        "print(public_url)\n",
        "\n",
        "process = subprocess.Popen([\"streamlit\",\"run\",\"app.py\"])"
      ],
      "metadata": {
        "colab": {
          "base_uri": "https://localhost:8080/"
        },
        "id": "GPIUXp5z1c_e",
        "outputId": "129e5777-91fb-4a06-f03f-c17aeaf23671"
      },
      "execution_count": null,
      "outputs": [
        {
          "output_type": "stream",
          "name": "stdout",
          "text": [
            "NgrokTunnel: \"https://07cc952746f1.ngrok-free.app\" -> \"http://localhost:8501\"\n"
          ]
        }
      ]
    },
    {
      "cell_type": "code",
      "source": [],
      "metadata": {
        "id": "oMMFP5hE3Jm3"
      },
      "execution_count": null,
      "outputs": []
    }
  ]
}