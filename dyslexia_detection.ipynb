{
  "nbformat": 4,
  "nbformat_minor": 0,
  "metadata": {
    "colab": {
      "provenance": [],
      "gpuType": "T4",
      "authorship_tag": "ABX9TyM8MS+NfNFLhUXx8Vfx+VGW",
      "include_colab_link": true
    },
    "kernelspec": {
      "name": "python3",
      "display_name": "Python 3"
    },
    "language_info": {
      "name": "python"
    },
    "accelerator": "GPU"
  },
  "cells": [
    {
      "cell_type": "markdown",
      "metadata": {
        "id": "view-in-github",
        "colab_type": "text"
      },
      "source": [
        "<a href=\"https://colab.research.google.com/github/Soumyajit-Chakraborty/Dyslexia-Detection/blob/main/dyslexia_detection.ipynb\" target=\"_parent\"><img src=\"https://colab.research.google.com/assets/colab-badge.svg\" alt=\"Open In Colab\"/></a>"
      ]
    },
    {
      "cell_type": "code",
      "source": [
        "import zipfile\n",
        "\n",
        "zippath = \"/content/Dyslexia_classification.zip\"\n",
        "extractpath = \"/content/dataset\"\n",
        "\n",
        "with zipfile.ZipFile(zippath,'r') as zip_ref:\n",
        "    zip_ref.extractall(extractpath)"
      ],
      "metadata": {
        "id": "EjwJUpSsWSET"
      },
      "execution_count": null,
      "outputs": []
    },
    {
      "cell_type": "code",
      "source": [
        "import tensorflow as tf\n",
        "from tensorflow import keras\n",
        "from tensorflow.keras import layers, models\n",
        "import numpy as np\n",
        "\n",
        "IMG_SIZE = (224,224)\n",
        "BATCH = 16"
      ],
      "metadata": {
        "id": "IPisJvfyXYSj"
      },
      "execution_count": null,
      "outputs": []
    },
    {
      "cell_type": "code",
      "source": [
        "train_ds = keras.utils.image_dataset_from_directory(\n",
        "    \"/content/dataset/Dyslexia_classification\",\n",
        "    validation_split = 0.2,\n",
        "    subset = \"training\",\n",
        "    seed = 42,\n",
        "    image_size = IMG_SIZE,\n",
        "    batch_size = BATCH\n",
        ")"
      ],
      "metadata": {
        "colab": {
          "base_uri": "https://localhost:8080/"
        },
        "id": "srmyrRgAYDH9",
        "outputId": "d783ba9b-27c9-453c-b09b-7d8890b08939"
      },
      "execution_count": null,
      "outputs": [
        {
          "output_type": "stream",
          "name": "stdout",
          "text": [
            "Found 403 files belonging to 2 classes.\n",
            "Using 323 files for training.\n"
          ]
        }
      ]
    },
    {
      "cell_type": "code",
      "source": [
        "val_ds = keras.utils.image_dataset_from_directory(\n",
        "    \"/content/dataset/Dyslexia_classification\",\n",
        "    validation_split = 0.2,\n",
        "    subset = \"validation\",\n",
        "    seed = 42,\n",
        "    image_size = IMG_SIZE,\n",
        "    batch_size = BATCH\n",
        ")"
      ],
      "metadata": {
        "colab": {
          "base_uri": "https://localhost:8080/"
        },
        "id": "GLdSTeqPYfi7",
        "outputId": "63d0325f-54e9-4f9b-b753-f383fd0c67a6"
      },
      "execution_count": null,
      "outputs": [
        {
          "output_type": "stream",
          "name": "stdout",
          "text": [
            "Found 403 files belonging to 2 classes.\n",
            "Using 80 files for validation.\n"
          ]
        }
      ]
    },
    {
      "cell_type": "code",
      "source": [
        "norm_layer = layers.Rescaling(1./255)\n",
        "train_ds = train_ds.map(lambda x, y : (norm_layer(x), y))\n",
        "val_ds = val_ds.map(lambda x, y : (norm_layer(x), y))"
      ],
      "metadata": {
        "id": "8IG8XCoFYpQn"
      },
      "execution_count": null,
      "outputs": []
    },
    {
      "cell_type": "code",
      "source": [
        "augmentation = keras.Sequential([\n",
        "    layers.RandomFlip('horizontal'),\n",
        "    layers.RandomRotation(0.1),\n",
        "    layers.RandomZoom(0.1),\n",
        "    layers.RandomContrast(0.1)\n",
        "])"
      ],
      "metadata": {
        "id": "sC6ZYPNTZZYd"
      },
      "execution_count": null,
      "outputs": []
    },
    {
      "cell_type": "code",
      "source": [
        "base_model = keras.applications.MobileNetV2(\n",
        "    input_shape = IMG_SIZE + (3,),\n",
        "    include_top = False,\n",
        "    weights = \"imagenet\"\n",
        ")\n",
        "base_model.trainable = False"
      ],
      "metadata": {
        "colab": {
          "base_uri": "https://localhost:8080/"
        },
        "id": "e-HIQsScZtLZ",
        "outputId": "56196189-98ee-420b-cf48-3a853d2f0719"
      },
      "execution_count": null,
      "outputs": [
        {
          "output_type": "stream",
          "name": "stdout",
          "text": [
            "Downloading data from https://storage.googleapis.com/tensorflow/keras-applications/mobilenet_v2/mobilenet_v2_weights_tf_dim_ordering_tf_kernels_1.0_224_no_top.h5\n",
            "\u001b[1m9406464/9406464\u001b[0m \u001b[32m━━━━━━━━━━━━━━━━━━━━\u001b[0m\u001b[37m\u001b[0m \u001b[1m0s\u001b[0m 0us/step\n"
          ]
        }
      ]
    },
    {
      "cell_type": "code",
      "source": [
        "model = models.Sequential([\n",
        "    augmentation,\n",
        "    base_model,\n",
        "    layers.GlobalAveragePooling2D(),\n",
        "    layers.Dropout(0.3),\n",
        "    layers.Dense(1,activation = \"sigmoid\")\n",
        "])\n",
        "\n",
        "model.compile(\n",
        "    optimizer = keras.optimizers.Adam(1e-4),\n",
        "    loss = \"binary_crossentropy\",\n",
        "    metrics = [\"binary_accuracy\"]\n",
        ")"
      ],
      "metadata": {
        "id": "FqIJwL3jaGIH"
      },
      "execution_count": null,
      "outputs": []
    },
    {
      "cell_type": "code",
      "source": [
        "history = model.fit(\n",
        "    train_ds,\n",
        "    validation_data = val_ds,\n",
        "    epochs = 35\n",
        ")"
      ],
      "metadata": {
        "colab": {
          "base_uri": "https://localhost:8080/"
        },
        "id": "syUUqlBwao2l",
        "outputId": "ef845a7f-9c9e-4e50-e43f-e1059346fa2b"
      },
      "execution_count": null,
      "outputs": [
        {
          "output_type": "stream",
          "name": "stdout",
          "text": [
            "Epoch 1/35\n",
            "\u001b[1m21/21\u001b[0m \u001b[32m━━━━━━━━━━━━━━━━━━━━\u001b[0m\u001b[37m\u001b[0m \u001b[1m7s\u001b[0m 110ms/step - binary_accuracy: 0.5477 - loss: 0.7316 - val_binary_accuracy: 0.5875 - val_loss: 0.6570\n",
            "Epoch 2/35\n",
            "\u001b[1m21/21\u001b[0m \u001b[32m━━━━━━━━━━━━━━━━━━━━\u001b[0m\u001b[37m\u001b[0m \u001b[1m1s\u001b[0m 45ms/step - binary_accuracy: 0.5786 - loss: 0.7041 - val_binary_accuracy: 0.6500 - val_loss: 0.6355\n",
            "Epoch 3/35\n",
            "\u001b[1m21/21\u001b[0m \u001b[32m━━━━━━━━━━━━━━━━━━━━\u001b[0m\u001b[37m\u001b[0m \u001b[1m1s\u001b[0m 45ms/step - binary_accuracy: 0.6626 - loss: 0.6178 - val_binary_accuracy: 0.6875 - val_loss: 0.6112\n",
            "Epoch 4/35\n",
            "\u001b[1m21/21\u001b[0m \u001b[32m━━━━━━━━━━━━━━━━━━━━\u001b[0m\u001b[37m\u001b[0m \u001b[1m1s\u001b[0m 46ms/step - binary_accuracy: 0.6535 - loss: 0.6211 - val_binary_accuracy: 0.7500 - val_loss: 0.5877\n",
            "Epoch 5/35\n",
            "\u001b[1m21/21\u001b[0m \u001b[32m━━━━━━━━━━━━━━━━━━━━\u001b[0m\u001b[37m\u001b[0m \u001b[1m1s\u001b[0m 66ms/step - binary_accuracy: 0.6779 - loss: 0.5986 - val_binary_accuracy: 0.7625 - val_loss: 0.5701\n",
            "Epoch 6/35\n",
            "\u001b[1m21/21\u001b[0m \u001b[32m━━━━━━━━━━━━━━━━━━━━\u001b[0m\u001b[37m\u001b[0m \u001b[1m2s\u001b[0m 74ms/step - binary_accuracy: 0.6494 - loss: 0.6411 - val_binary_accuracy: 0.7625 - val_loss: 0.5515\n",
            "Epoch 7/35\n",
            "\u001b[1m21/21\u001b[0m \u001b[32m━━━━━━━━━━━━━━━━━━━━\u001b[0m\u001b[37m\u001b[0m \u001b[1m2s\u001b[0m 45ms/step - binary_accuracy: 0.6737 - loss: 0.5835 - val_binary_accuracy: 0.7750 - val_loss: 0.5381\n",
            "Epoch 8/35\n",
            "\u001b[1m21/21\u001b[0m \u001b[32m━━━━━━━━━━━━━━━━━━━━\u001b[0m\u001b[37m\u001b[0m \u001b[1m1s\u001b[0m 68ms/step - binary_accuracy: 0.6829 - loss: 0.5561 - val_binary_accuracy: 0.7875 - val_loss: 0.5211\n",
            "Epoch 9/35\n",
            "\u001b[1m21/21\u001b[0m \u001b[32m━━━━━━━━━━━━━━━━━━━━\u001b[0m\u001b[37m\u001b[0m \u001b[1m1s\u001b[0m 46ms/step - binary_accuracy: 0.7694 - loss: 0.4961 - val_binary_accuracy: 0.8250 - val_loss: 0.5011\n",
            "Epoch 10/35\n",
            "\u001b[1m21/21\u001b[0m \u001b[32m━━━━━━━━━━━━━━━━━━━━\u001b[0m\u001b[37m\u001b[0m \u001b[1m1s\u001b[0m 46ms/step - binary_accuracy: 0.7226 - loss: 0.5421 - val_binary_accuracy: 0.8250 - val_loss: 0.4873\n",
            "Epoch 11/35\n",
            "\u001b[1m21/21\u001b[0m \u001b[32m━━━━━━━━━━━━━━━━━━━━\u001b[0m\u001b[37m\u001b[0m \u001b[1m1s\u001b[0m 47ms/step - binary_accuracy: 0.7556 - loss: 0.4763 - val_binary_accuracy: 0.8375 - val_loss: 0.4682\n",
            "Epoch 12/35\n",
            "\u001b[1m21/21\u001b[0m \u001b[32m━━━━━━━━━━━━━━━━━━━━\u001b[0m\u001b[37m\u001b[0m \u001b[1m1s\u001b[0m 46ms/step - binary_accuracy: 0.8059 - loss: 0.4614 - val_binary_accuracy: 0.8625 - val_loss: 0.4576\n",
            "Epoch 13/35\n",
            "\u001b[1m21/21\u001b[0m \u001b[32m━━━━━━━━━━━━━━━━━━━━\u001b[0m\u001b[37m\u001b[0m \u001b[1m1s\u001b[0m 52ms/step - binary_accuracy: 0.8017 - loss: 0.4590 - val_binary_accuracy: 0.8375 - val_loss: 0.4526\n",
            "Epoch 14/35\n",
            "\u001b[1m21/21\u001b[0m \u001b[32m━━━━━━━━━━━━━━━━━━━━\u001b[0m\u001b[37m\u001b[0m \u001b[1m1s\u001b[0m 52ms/step - binary_accuracy: 0.8005 - loss: 0.4484 - val_binary_accuracy: 0.8625 - val_loss: 0.4425\n",
            "Epoch 15/35\n",
            "\u001b[1m21/21\u001b[0m \u001b[32m━━━━━━━━━━━━━━━━━━━━\u001b[0m\u001b[37m\u001b[0m \u001b[1m2s\u001b[0m 96ms/step - binary_accuracy: 0.8033 - loss: 0.4716 - val_binary_accuracy: 0.8750 - val_loss: 0.4263\n",
            "Epoch 16/35\n",
            "\u001b[1m21/21\u001b[0m \u001b[32m━━━━━━━━━━━━━━━━━━━━\u001b[0m\u001b[37m\u001b[0m \u001b[1m2s\u001b[0m 46ms/step - binary_accuracy: 0.7808 - loss: 0.4563 - val_binary_accuracy: 0.8750 - val_loss: 0.4162\n",
            "Epoch 17/35\n",
            "\u001b[1m21/21\u001b[0m \u001b[32m━━━━━━━━━━━━━━━━━━━━\u001b[0m\u001b[37m\u001b[0m \u001b[1m1s\u001b[0m 51ms/step - binary_accuracy: 0.8309 - loss: 0.4458 - val_binary_accuracy: 0.8750 - val_loss: 0.4093\n",
            "Epoch 18/35\n",
            "\u001b[1m21/21\u001b[0m \u001b[32m━━━━━━━━━━━━━━━━━━━━\u001b[0m\u001b[37m\u001b[0m \u001b[1m1s\u001b[0m 47ms/step - binary_accuracy: 0.8613 - loss: 0.4016 - val_binary_accuracy: 0.8750 - val_loss: 0.4025\n",
            "Epoch 19/35\n",
            "\u001b[1m21/21\u001b[0m \u001b[32m━━━━━━━━━━━━━━━━━━━━\u001b[0m\u001b[37m\u001b[0m \u001b[1m1s\u001b[0m 46ms/step - binary_accuracy: 0.8607 - loss: 0.3862 - val_binary_accuracy: 0.8750 - val_loss: 0.3944\n",
            "Epoch 20/35\n",
            "\u001b[1m21/21\u001b[0m \u001b[32m━━━━━━━━━━━━━━━━━━━━\u001b[0m\u001b[37m\u001b[0m \u001b[1m1s\u001b[0m 47ms/step - binary_accuracy: 0.8173 - loss: 0.4287 - val_binary_accuracy: 0.8750 - val_loss: 0.3914\n",
            "Epoch 21/35\n",
            "\u001b[1m21/21\u001b[0m \u001b[32m━━━━━━━━━━━━━━━━━━━━\u001b[0m\u001b[37m\u001b[0m \u001b[1m1s\u001b[0m 46ms/step - binary_accuracy: 0.8685 - loss: 0.3834 - val_binary_accuracy: 0.8750 - val_loss: 0.3823\n",
            "Epoch 22/35\n",
            "\u001b[1m21/21\u001b[0m \u001b[32m━━━━━━━━━━━━━━━━━━━━\u001b[0m\u001b[37m\u001b[0m \u001b[1m1s\u001b[0m 52ms/step - binary_accuracy: 0.8564 - loss: 0.3825 - val_binary_accuracy: 0.8750 - val_loss: 0.3805\n",
            "Epoch 23/35\n",
            "\u001b[1m21/21\u001b[0m \u001b[32m━━━━━━━━━━━━━━━━━━━━\u001b[0m\u001b[37m\u001b[0m \u001b[1m1s\u001b[0m 52ms/step - binary_accuracy: 0.8608 - loss: 0.3759 - val_binary_accuracy: 0.8875 - val_loss: 0.3690\n",
            "Epoch 24/35\n",
            "\u001b[1m21/21\u001b[0m \u001b[32m━━━━━━━━━━━━━━━━━━━━\u001b[0m\u001b[37m\u001b[0m \u001b[1m2s\u001b[0m 83ms/step - binary_accuracy: 0.8347 - loss: 0.4005 - val_binary_accuracy: 0.8875 - val_loss: 0.3641\n",
            "Epoch 25/35\n",
            "\u001b[1m21/21\u001b[0m \u001b[32m━━━━━━━━━━━━━━━━━━━━\u001b[0m\u001b[37m\u001b[0m \u001b[1m2s\u001b[0m 46ms/step - binary_accuracy: 0.8554 - loss: 0.3781 - val_binary_accuracy: 0.8875 - val_loss: 0.3585\n",
            "Epoch 26/35\n",
            "\u001b[1m21/21\u001b[0m \u001b[32m━━━━━━━━━━━━━━━━━━━━\u001b[0m\u001b[37m\u001b[0m \u001b[1m1s\u001b[0m 46ms/step - binary_accuracy: 0.8159 - loss: 0.4015 - val_binary_accuracy: 0.8875 - val_loss: 0.3594\n",
            "Epoch 27/35\n",
            "\u001b[1m21/21\u001b[0m \u001b[32m━━━━━━━━━━━━━━━━━━━━\u001b[0m\u001b[37m\u001b[0m \u001b[1m1s\u001b[0m 46ms/step - binary_accuracy: 0.8655 - loss: 0.3638 - val_binary_accuracy: 0.8875 - val_loss: 0.3564\n",
            "Epoch 28/35\n",
            "\u001b[1m21/21\u001b[0m \u001b[32m━━━━━━━━━━━━━━━━━━━━\u001b[0m\u001b[37m\u001b[0m \u001b[1m1s\u001b[0m 51ms/step - binary_accuracy: 0.8927 - loss: 0.3299 - val_binary_accuracy: 0.8875 - val_loss: 0.3484\n",
            "Epoch 29/35\n",
            "\u001b[1m21/21\u001b[0m \u001b[32m━━━━━━━━━━━━━━━━━━━━\u001b[0m\u001b[37m\u001b[0m \u001b[1m1s\u001b[0m 47ms/step - binary_accuracy: 0.8787 - loss: 0.3561 - val_binary_accuracy: 0.9000 - val_loss: 0.3433\n",
            "Epoch 30/35\n",
            "\u001b[1m21/21\u001b[0m \u001b[32m━━━━━━━━━━━━━━━━━━━━\u001b[0m\u001b[37m\u001b[0m \u001b[1m1s\u001b[0m 46ms/step - binary_accuracy: 0.9117 - loss: 0.2910 - val_binary_accuracy: 0.9000 - val_loss: 0.3436\n",
            "Epoch 31/35\n",
            "\u001b[1m21/21\u001b[0m \u001b[32m━━━━━━━━━━━━━━━━━━━━\u001b[0m\u001b[37m\u001b[0m \u001b[1m1s\u001b[0m 46ms/step - binary_accuracy: 0.8700 - loss: 0.3415 - val_binary_accuracy: 0.9000 - val_loss: 0.3371\n",
            "Epoch 32/35\n",
            "\u001b[1m21/21\u001b[0m \u001b[32m━━━━━━━━━━━━━━━━━━━━\u001b[0m\u001b[37m\u001b[0m \u001b[1m1s\u001b[0m 47ms/step - binary_accuracy: 0.8687 - loss: 0.3461 - val_binary_accuracy: 0.9000 - val_loss: 0.3288\n",
            "Epoch 33/35\n",
            "\u001b[1m21/21\u001b[0m \u001b[32m━━━━━━━━━━━━━━━━━━━━\u001b[0m\u001b[37m\u001b[0m \u001b[1m2s\u001b[0m 60ms/step - binary_accuracy: 0.8938 - loss: 0.3062 - val_binary_accuracy: 0.9000 - val_loss: 0.3231\n",
            "Epoch 34/35\n",
            "\u001b[1m21/21\u001b[0m \u001b[32m━━━━━━━━━━━━━━━━━━━━\u001b[0m\u001b[37m\u001b[0m \u001b[1m2s\u001b[0m 46ms/step - binary_accuracy: 0.8932 - loss: 0.3327 - val_binary_accuracy: 0.9000 - val_loss: 0.3228\n",
            "Epoch 35/35\n",
            "\u001b[1m21/21\u001b[0m \u001b[32m━━━━━━━━━━━━━━━━━━━━\u001b[0m\u001b[37m\u001b[0m \u001b[1m1s\u001b[0m 51ms/step - binary_accuracy: 0.8831 - loss: 0.3303 - val_binary_accuracy: 0.9000 - val_loss: 0.3243\n"
          ]
        }
      ]
    },
    {
      "cell_type": "code",
      "source": [
        "model.save(\"Dyslexia_classifier.h5\")"
      ],
      "metadata": {
        "colab": {
          "base_uri": "https://localhost:8080/"
        },
        "id": "ic7-RlPGcPq4",
        "outputId": "757a2ad6-c823-443b-bc61-340a6f3b5e6b"
      },
      "execution_count": null,
      "outputs": [
        {
          "output_type": "stream",
          "name": "stderr",
          "text": [
            "WARNING:absl:You are saving your model as an HDF5 file via `model.save()` or `keras.saving.save_model(model)`. This file format is considered legacy. We recommend using instead the native Keras format, e.g. `model.save('my_model.keras')` or `keras.saving.save_model(model, 'my_model.keras')`. \n"
          ]
        }
      ]
    }
  ]
}